{
 "cells": [
  {
   "cell_type": "code",
   "execution_count": 1,
   "id": "cd139a24-bd4f-4f78-bac0-82b3adf250da",
   "metadata": {},
   "outputs": [
    {
     "name": "stdout",
     "output_type": "stream",
     "text": [
      "=== TIFF directory 0 ===\n",
      "TIFF Directory at offset 0x3ec9be (4114878)\n",
      "  Subfile Type: (0 = 0x0)\n",
      "  Image Width: 5975 Image Length: 5321 Image Depth: 1\n",
      "  Tile Width: 240 Tile Length: 240\n",
      "  Bits/Sample: 8\n",
      "  Compression Scheme: JPEG\n",
      "  Photometric Interpretation: RGB color\n",
      "  YCbCr Subsampling: 2, 2\n",
      "  Samples/Pixel: 3\n",
      "  Planar Configuration: single image plane\n",
      "  ImageDescription: Aperio Image Library v12.0.15 \n",
      "6096x5421 [0,100 5975x5321] (240x240) JPEG/RGB Q=70|AppMag = 40|StripeWidth = 2032|ScanScope ID = SS75592|Filename = 229293|Date = 08/01/24|Time = 09:52:52|Time Zone = GMT-04:00|User = 329fd652-d7b7-4339-90a6-3ad5938221e4|MPP = 0.2523|Left = 30.677172|Top = 11.292421|LineCameraSkew = -0.000609|LineAreaXOffset = -0.002272|LineAreaYOffset = -0.002321|Focus Offset = 0.000000|DSR ID = aperio06|ImageID = 229293|Exposure Time = 45|Exposure Scale = 0.000001|DisplayColor = 0|SessonMode = NR|OriginalWidth = 6096|OriginalHeight = 5421|ICC Profile = AT2\n",
      "  ICC Profile: <present>, 1687824 bytes\n",
      "  JPEG Tables: (574 bytes)\n",
      "\n",
      "=== TIFF directory 1 ===\n",
      "TIFF Directory at offset 0x5a1d4e (5905742)\n",
      "  Subfile Type: (0 = 0x0)\n",
      "  Image Width: 862 Image Length: 768 Image Depth: 1\n",
      "  Bits/Sample: 8\n",
      "  Compression Scheme: JPEG\n",
      "  Photometric Interpretation: RGB color\n",
      "  YCbCr Subsampling: 2, 2\n",
      "  Samples/Pixel: 3\n",
      "  Rows/Strip: 16\n",
      "  Planar Configuration: single image plane\n",
      "  ImageDescription: Aperio Image Library v12.0.15 \n",
      "5975x5321 -> 862x768 - |AppMag = 40|StripeWidth = 2032|ScanScope ID = SS75592|Filename = 229293|Date = 08/01/24|Time = 09:52:52|Time Zone = GMT-04:00|User = 329fd652-d7b7-4339-90a6-3ad5938221e4|MPP = 0.2523|Left = 30.677172|Top = 11.292421|LineCameraSkew = -0.000609|LineAreaXOffset = -0.002272|LineAreaYOffset = -0.002321|Focus Offset = 0.000000|DSR ID = aperio06|ImageID = 229293|Exposure Time = 45|Exposure Scale = 0.000001|DisplayColor = 0|SessonMode = NR|OriginalWidth = 6096|OriginalHeight = 5421|ICC Profile = AT2\n",
      "  JPEG Tables: (289 bytes)\n",
      "\n",
      "=== TIFF directory 2 ===\n",
      "TIFF Directory at offset 0x7aebdc (8055772)\n",
      "  Subfile Type: (0 = 0x0)\n",
      "  Image Width: 2987 Image Length: 2660 Image Depth: 1\n",
      "  Tile Width: 240 Tile Length: 240\n",
      "  Bits/Sample: 8\n",
      "  Compression Scheme: JPEG\n",
      "  Photometric Interpretation: RGB color\n",
      "  YCbCr Subsampling: 2, 2\n",
      "  Samples/Pixel: 3\n",
      "  Planar Configuration: single image plane\n",
      "  ImageDescription: Aperio Image Library v12.0.15 \n",
      "6096x5421 [0,100 5975x5321] (240x240) -> 2987x2660 JPEG/RGB Q=85\n",
      "  JPEG Tables: (574 bytes)\n",
      "\n"
     ]
    }
   ],
   "source": [
    "!tiffinfo MSB-06824-08-05.svs"
   ]
  },
  {
   "cell_type": "code",
   "execution_count": 2,
   "id": "7480e60b-bb34-4554-afd3-07b27d0ae7d3",
   "metadata": {},
   "outputs": [],
   "source": [
    "import openslide  # OpenSlide: WSI(Whole Slide Image)를 열기 위한 라이브러리\n",
    "import os  # 디렉토리 및 파일 경로 관련 작업을 위한 모듈\n",
    "from PIL import Image  # 이미지 처리용 라이브러리 (Pillow)\n",
    "import numpy as np  # 배열 연산을 위한 NumPy\n",
    "from tqdm import tqdm  # 진행 상황 표시용 프로그레스바 라이브러리"
   ]
  },
  {
   "cell_type": "code",
   "execution_count": 3,
   "id": "506ad9e8-3b90-490d-9c6e-4190310257c3",
   "metadata": {},
   "outputs": [],
   "source": [
    "# 패치의 크기 (256x256 픽셀)\n",
    "patch_size = 256 \n",
    "stride = 256  # 패치 간의 간격 (겹치지 않도록 stride = patch_size)\n",
    "level = 0  # OpenSlide에서 사용할 해상도 레벨 (0이 가장 높은 해상도)\n",
    "output_dir = \"patches_filtered\"  # 결과 패치를 저장할 디렉토리 이름\n",
    "image_name = \"MSB-06824-08-05.svs\""
   ]
  },
  {
   "cell_type": "code",
   "execution_count": 4,
   "id": "f3674758-a051-48b1-946d-ecdb507eb16c",
   "metadata": {},
   "outputs": [
    {
     "name": "stderr",
     "output_type": "stream",
     "text": [
      "100%|███████████████████████████████████████████| 20/20 [00:03<00:00,  6.07it/s]\n"
     ]
    }
   ],
   "source": [
    "# OpenSlide를 사용해 WSI 파일 열기 \n",
    "# Open WSI slide using OpenSlide\n",
    "slide = openslide.OpenSlide(image_name)\n",
    "width, height = slide.level_dimensions[level]  # 해당 레벨에서의 전체 슬라이드 너비와 높이\n",
    "\n",
    "# 출력 디렉토리가 없다면 생성  \n",
    "# Create output directory if it doesn't exist\n",
    "os.makedirs(output_dir, exist_ok=True)\n",
    "\n",
    "# 패치에 조직(tissue)이 포함되어 있는지 판단하는 함수\n",
    "# Function to check if a patch contains tissue (not mostly background)\n",
    "def is_tissue(patch, threshold=0.8):\n",
    "    \n",
    "    # 패치를 RGB 배열로 변환 \n",
    "    #Convert patch to RGB numpy array\n",
    "    np_patch = np.array(patch.convert(\"RGB\")) \n",
    "    \n",
    "    # 평균값을 이용해 grayscale 이미지 생성\n",
    "    # Convert to grayscale\n",
    "    gray = np_patch.mean(axis=2)   \n",
    "\n",
    "    # 밝은 픽셀(배경)의 비율 계산\n",
    "    # Calculate bright (background) pixel ratio\n",
    "    bg_ratio = (gray > 220).sum() / (gray.shape[0] * gray.shape[1])  \n",
    "\n",
    "    # 배경 비율이 threshold보다 작으면 조직으로 간주\n",
    "    # Return True if mostly tissue\n",
    "    return bg_ratio < threshold   \n",
    "\n",
    "\n",
    "# 저장할 패치 이미지 이름에 사용할 ID 초기화 \n",
    "# Initialize patch ID\n",
    "patch_id = 0  \n",
    "\n",
    "# 슬라이드를 위에서 아래로, 왼쪽에서 오른쪽으로 순차적으로 스캔 \n",
    "# Loop over slide from top to bottom and left to right\n",
    "for y in tqdm(range(0, height - patch_size + 1, stride)):  # 세로 방향 반복 / Vertical steps\n",
    "    for x in range(0, width - patch_size + 1, stride):  # 가로 방향 반복 / Horizontal steps\n",
    "        \n",
    "        # 해당 위치에서 패치 추출 \n",
    "        # Extract patch from (x, y) at specified level\n",
    "        patch = slide.read_region((x, y), level, (patch_size, patch_size))\n",
    "\n",
    "        # 조직이 포함되어 있으면 저장 \n",
    "        # Save only if patch contains tissue\n",
    "        if is_tissue(patch):\n",
    "            \n",
    "            # RGBA에서 RGB로 변환 \n",
    "            # Convert RGBA to RGB\n",
    "            patch = patch.convert(\"RGB\")  \n",
    "\n",
    "            # 파일 저장 \n",
    "            # Save patch image\n",
    "            patch.save(os.path.join(output_dir, f\"patch_{patch_id}.png\")) \n",
    "            \n",
    "            # 다음 패치 ID 증가  \n",
    "            # Increment patch ID\n",
    "            patch_id += 1  "
   ]
  },
  {
   "cell_type": "code",
   "execution_count": null,
   "id": "082cae94-e5b2-487c-bcdb-a5a2d88994c2",
   "metadata": {},
   "outputs": [],
   "source": []
  }
 ],
 "metadata": {
  "kernelspec": {
   "display_name": "Python 3 (ipykernel)",
   "language": "python",
   "name": "python3"
  },
  "language_info": {
   "codemirror_mode": {
    "name": "ipython",
    "version": 3
   },
   "file_extension": ".py",
   "mimetype": "text/x-python",
   "name": "python",
   "nbconvert_exporter": "python",
   "pygments_lexer": "ipython3",
   "version": "3.13.2"
  }
 },
 "nbformat": 4,
 "nbformat_minor": 5
}
