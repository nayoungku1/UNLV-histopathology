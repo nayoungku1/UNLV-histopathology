{
 "cells": [
  {
   "cell_type": "code",
   "execution_count": 2,
   "id": "8f823c70-e19d-46f1-9e8d-4befffe60406",
   "metadata": {},
   "outputs": [
    {
     "name": "stdout",
     "output_type": "stream",
     "text": [
      "✅ 다운로드 성공: MSB-07219-02-01.npz\n",
      "✅ 다운로드 성공: MSB-08777-01-02.npz\n",
      "✅ 다운로드 성공: MSB-05837-01-06.npz\n",
      "✅ 다운로드 성공: MSB-04286-01-01.npz\n",
      "✅ 다운로드 성공: MSB-05756-01-02.npz\n",
      "✅ 다운로드 성공: MSB-00179-03-20.npz\n",
      "✅ 다운로드 성공: MSB-01772-06-02.npz\n",
      "✅ 다운로드 성공: MSB-06824-08-06.npz\n",
      "✅ 다운로드 성공: MSB-06150-02-05.npz\n",
      "✅ 다운로드 성공: MSB-02498-01-04.npz\n",
      "✅ 다운로드 성공: MSB-01433-03-02.npz\n",
      "✅ 다운로드 성공: MSB-05767-07-06.npz\n",
      "✅ 다운로드 성공: MSB-04567-03-20.npz\n",
      "✅ 다운로드 성공: MSB-05388-01-02.npz\n",
      "✅ 다운로드 성공: MSB-04315-01-02.npz\n",
      "✅ 다운로드 성공: MSB-04248-03-01.npz\n",
      "✅ 다운로드 성공: MSB-03410-01-02.npz\n",
      "✅ 다운로드 성공: MSB-09117-03-06.npz\n",
      "✅ 다운로드 성공: MSB-09666-02-02.npz\n",
      "✅ 다운로드 성공: MSB-02151-02-14.npz\n",
      "✅ 다운로드 성공: MSB-06150-02-04.npz\n",
      "✅ 다운로드 성공: MSB-09466-02-02.npz\n",
      "✅ 다운로드 성공: MSB-02428-03-02.npz\n",
      "✅ 다운로드 성공: MSB-08928-01-06.npz\n",
      "✅ 다운로드 성공: MSB-06150-02-12.npz\n",
      "✅ 다운로드 성공: MSB-07572-01-02.npz\n",
      "✅ 다운로드 성공: MSB-02151-01-20.npz\n",
      "✅ 다운로드 성공: MSB-05876-01-07.npz\n",
      "✅ 다운로드 성공: MSB-08242-01-05.npz\n",
      "✅ 다운로드 성공: MSB-09505-01-02.npz\n",
      "✅ 다운로드 성공: MSB-08063-04-01.npz\n"
     ]
    }
   ],
   "source": [
    "import os\n",
    "import requests\n",
    "\n",
    "# ===============================\n",
    "# 사용자 정의: 다운로드할 파일 목록\n",
    "# ===============================\n",
    "# 예시 파일 리스트 (여기에 본인이 직접 원하는 31개를 입력하세요)\n",
    "selected_filenames = ['MSB-07219-02-01.npz', 'MSB-08777-01-02.npz', 'MSB-05837-01-06.npz', 'MSB-04286-01-01.npz', 'MSB-05756-01-02.npz', 'MSB-00179-03-20.npz', 'MSB-01772-06-02.npz', 'MSB-06824-08-06.npz', 'MSB-06150-02-05.npz', 'MSB-02498-01-04.npz', 'MSB-01433-03-02.npz', 'MSB-05767-07-06.npz', 'MSB-04567-03-20.npz', 'MSB-05388-01-02.npz', 'MSB-04315-01-02.npz', 'MSB-04248-03-01.npz', 'MSB-03410-01-02.npz', 'MSB-09117-03-06.npz', 'MSB-09666-02-02.npz', 'MSB-02151-02-14.npz', 'MSB-06150-02-04.npz', 'MSB-09466-02-02.npz', 'MSB-02428-03-02.npz', 'MSB-08928-01-06.npz', 'MSB-06150-02-12.npz', 'MSB-07572-01-02.npz', 'MSB-02151-01-20.npz', 'MSB-05876-01-07.npz', 'MSB-08242-01-05.npz', 'MSB-09505-01-02.npz', 'MSB-08063-04-01.npz']\n",
    "\n",
    "\n",
    "# ===============================\n",
    "# 설정\n",
    "# ===============================\n",
    "repo_id = \"nayoungku1/npz-histopathology-dataset\"\n",
    "local_cache_dir = \"./npz_cache\"\n",
    "os.makedirs(local_cache_dir, exist_ok=True)\n",
    "\n",
    "# ===============================\n",
    "# 다운로드 함수\n",
    "# ===============================\n",
    "def download_npz_from_hf(repo_id, filename, save_dir):\n",
    "    url = f\"https://huggingface.co/datasets/{repo_id}/resolve/main/{filename}\"\n",
    "    local_path = os.path.join(save_dir, filename)\n",
    "\n",
    "    if os.path.exists(local_path):\n",
    "        print(f\"✅ 이미 존재함: {filename}\")\n",
    "        return\n",
    "\n",
    "    try:\n",
    "        response = requests.get(url, timeout=10)\n",
    "        response.raise_for_status()\n",
    "        with open(local_path, \"wb\") as f:\n",
    "            f.write(response.content)\n",
    "        print(f\"✅ 다운로드 성공: {filename}\")\n",
    "    except Exception as e:\n",
    "        print(f\"❌ 다운로드 실패: {filename} — {e}\")\n",
    "\n",
    "# ===============================\n",
    "# 다운로드 실행\n",
    "# ===============================\n",
    "for filename in selected_filenames:\n",
    "    download_npz_from_hf(repo_id, filename, local_cache_dir)\n"
   ]
  },
  {
   "cell_type": "code",
   "execution_count": null,
   "id": "1bbe00de-cec5-4e15-8c12-90162442932d",
   "metadata": {},
   "outputs": [],
   "source": []
  }
 ],
 "metadata": {
  "kernelspec": {
   "display_name": "tileenv",
   "language": "python",
   "name": "tileenv"
  },
  "language_info": {
   "codemirror_mode": {
    "name": "ipython",
    "version": 3
   },
   "file_extension": ".py",
   "mimetype": "text/x-python",
   "name": "python",
   "nbconvert_exporter": "python",
   "pygments_lexer": "ipython3",
   "version": "3.8.20"
  }
 },
 "nbformat": 4,
 "nbformat_minor": 5
}
